{
 "cells": [
  {
   "cell_type": "code",
   "execution_count": 173,
   "id": "c6d5af35-352e-4fee-afc8-7f50a2a1d5be",
   "metadata": {},
   "outputs": [],
   "source": [
    "import pandas as pd\n",
    "import numpy as np\n",
    "import os\n",
    "import re"
   ]
  },
  {
   "cell_type": "code",
   "execution_count": 174,
   "metadata": {},
   "outputs": [],
   "source": [
    "# Function to return the sum of elements in an array\n",
    "def findSum(arr):\n",
    "    sum = 0\n",
    "    for element in arr:\n",
    "        sum += element\n",
    "    return sum\n"
   ]
  },
  {
   "cell_type": "code",
   "execution_count": 175,
   "id": "e5b1fd7b",
   "metadata": {},
   "outputs": [],
   "source": [
    "def calculate_event_time(event_df, sub_id, trial_id, condition):\n",
    "    event_list = []\n",
    "    total_elapsed_time = 0\n",
    "    updated_event_df = pd.DataFrame()\n",
    "    \n",
    "    # iterate through all the rows in the dataframe and store them as dicts in a list\n",
    "    for idx, row in event_df.iterrows():\n",
    "        row = row.to_dict()\n",
    "        event_list.append(row)\n",
    "\n",
    "    # Find all the target find times and store them in an array for later\n",
    "    find_times = []\n",
    "    for event in event_list:\n",
    "        find_times.append(event['TargetFinding Time'])\n",
    "\n",
    "    for idx, events in enumerate(event_list):\n",
    "        target_area = events['Target Area']\n",
    "        target_sign = events[' Target sign']\n",
    "        target_finding_result = events[' TargetFinding result']\n",
    "        target_finding_time = events['TargetFinding Time']\n",
    "\n",
    "        # print(events)\n",
    "\n",
    "        default_elapsed_time = 5 if idx == 0 else (idx + 1) * 5\n",
    "        elapsed_find_times = find_times[:idx]\n",
    "        sum_find_times = findSum(elapsed_find_times)\n",
    "        total_elapsed_time = sum_find_times + default_elapsed_time\n",
    "        \n",
    "        this_df = pd.DataFrame(\n",
    "                {'target_area': target_area, \n",
    "                    'target_sign': target_sign,\n",
    "                    'target_finding_time': target_finding_time, \n",
    "                    'target_finding_result': target_finding_result,\n",
    "                    'sub_id': sub_id,\n",
    "                    'trial_id': trial_id,\n",
    "                    'condition': condition, \n",
    "                    'seconds_after_trigger': total_elapsed_time}, index=[0])\n",
    "        \n",
    "        updated_event_df = pd.concat([updated_event_df, this_df], ignore_index=False)\n",
    "    return updated_event_df\n",
    "\n"
   ]
  },
  {
   "cell_type": "code",
   "execution_count": 178,
   "id": "069e22ef",
   "metadata": {},
   "outputs": [],
   "source": [
    "ignored_dirs=['.ipynb_checkpoints']\n",
    "all_events = pd.DataFrame()\n",
    "behavior_files = os.listdir(\"../behavior_data\")\n",
    "behavior_files = list(filter(lambda file: file not in ignored_dirs, behavior_files))\n",
    "for file in behavior_files:\n",
    "    event_df = pd.read_csv(f\"../behavior_data/{file}\")\n",
    "    \n",
    "# find meta data from the CSV file name\n",
    "    # remove \".csv\"\n",
    "    file = file.split('.')[0]\n",
    "    # split by uppercase\n",
    "    name_list = re.findall('[A-Z][^A-Z]*', file)\n",
    "    # isolate user ID\n",
    "    sub_id = re.split(\"(\\d)\", name_list[0])[1]\n",
    "    \n",
    "    #isolate the trial_id\n",
    "    trial_id = re.split(\"(\\d)\", name_list[-1])[1]\n",
    "\n",
    "    # Figure out the condition\n",
    "    condition = re.split(r\"trial\", name_list[-1])[0]\n",
    "    \n",
    "    # Remove the events that didn't occur\n",
    "    mask = event_df['TargetFinding Time'] != -1\n",
    "    event_df = event_df[mask]\n",
    "    \n",
    "    # Figure out the time that each event occured relative to the trigger\n",
    "    df = calculate_event_time(event_df, sub_id, trial_id, condition)\n",
    "    all_events = pd.concat([df, all_events], ignore_index=True)\n",
    "\n",
    "# remove the 0 find_time events\n",
    "final_mask = all_events['target_finding_time'] != 0\n",
    "all_events = all_events[final_mask]    \n",
    "all_events.to_csv('attention_shift_events.csv')\n",
    "\n"
   ]
  },
  {
   "cell_type": "code",
   "execution_count": null,
   "id": "fc76bca5",
   "metadata": {},
   "outputs": [],
   "source": []
  }
 ],
 "metadata": {
  "kernelspec": {
   "display_name": "Python 3 (ipykernel)",
   "language": "python",
   "name": "python3"
  },
  "language_info": {
   "codemirror_mode": {
    "name": "ipython",
    "version": 3
   },
   "file_extension": ".py",
   "mimetype": "text/x-python",
   "name": "python",
   "nbconvert_exporter": "python",
   "pygments_lexer": "ipython3",
   "version": "3.8.16"
  }
 },
 "nbformat": 4,
 "nbformat_minor": 5
}
