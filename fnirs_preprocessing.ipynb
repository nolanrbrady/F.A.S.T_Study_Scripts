{
 "cells": [
  {
   "cell_type": "code",
   "execution_count": 420,
   "metadata": {},
   "outputs": [],
   "source": [
    "from mne.preprocessing.nirs import optical_density, temporal_derivative_distribution_repair, scalp_coupling_index\n",
    "import mne\n",
    "# Other Tooling\n",
    "import pandas as pd\n",
    "import numpy as np\n",
    "import os, warnings\n",
    "from collections import defaultdict\n",
    "from copy import deepcopy\n",
    "import importlib\n",
    "import statsmodels.formula.api as smf\n",
    "from scipy import stats\n",
    "from mne.preprocessing.nirs import beer_lambert_law\n",
    "from mne import Epochs, events_from_annotations"
   ]
  },
  {
   "cell_type": "code",
   "execution_count": 421,
   "metadata": {},
   "outputs": [],
   "source": [
    "def make_snirf_path(dir,sub_path):\n",
    "    \"\"\"\n",
    "    Simply finds and returns the path of the snirf file in the subjects folder\n",
    "    \"\"\"\n",
    "    for file in dir:\n",
    "        target = '.snirf'\n",
    "        if target in file:\n",
    "            snirf_path = f'{sub_path}/{file}'\n",
    "            return snirf_path"
   ]
  },
  {
   "cell_type": "code",
   "execution_count": 422,
   "metadata": {},
   "outputs": [],
   "source": [
    "# Variables\n",
    "root = '../fnirs/All/'\n",
    "ignore = ['.DS_Store']\n",
    "trigger_id = {'1': 'Visual', '2': 'Sound', '3': 'Both'}\n",
    "events = pd.read_csv('./attention_shift_events.csv')\n"
   ]
  },
  {
   "cell_type": "code",
   "execution_count": 423,
   "metadata": {},
   "outputs": [],
   "source": [
    "def add_event_triggers(events):\n",
    "    all_mne_events = []\n",
    "    for event in events:\n",
    "        mne_events = event['mne_events']\n",
    "        for item in mne_events:\n",
    "            all_mne_events.append(item)\n",
    "        \n",
    "        # Write the events to the snirf or fif file\n",
    "        mne.annotations_from_events()"
   ]
  },
  {
   "cell_type": "code",
   "execution_count": 424,
   "metadata": {},
   "outputs": [],
   "source": [
    "def align_triggers_with_events(triggers, trigger_dict, sub_events):\n",
    "    trigger_map = {1: 'Both', 2: 'Sound', 3: 'Visual'}\n",
    "    aligned_events = []\n",
    "    count = 0\n",
    "    for id, trigger in enumerate(triggers):\n",
    "        data = {}\n",
    "        event_type = trigger_map[trigger[-1]]\n",
    "        mask = (sub_events['condition'] == event_type) & (sub_events['trial_id'] == count)\n",
    "        conditional_events = sub_events[mask]\n",
    "\n",
    "        # Add items to data dict\n",
    "        data['trigger'] = trigger\n",
    "        data['raw_events'] = conditional_events\n",
    "\n",
    "        aligned_events.append(data)\n",
    "\n",
    "        # Delicatly Increment count\n",
    "        currrent_trigger = trigger[-1]\n",
    "        next_trigger = triggers[id+1][-1] if id < len(triggers)-1 else triggers[-1][-1]\n",
    "\n",
    "        count = count + 1 if currrent_trigger == next_trigger else 0\n",
    "\n",
    "    return aligned_events"
   ]
  },
  {
   "cell_type": "code",
   "execution_count": 425,
   "metadata": {},
   "outputs": [],
   "source": [
    "def convert_events_to_MNE_format(events, sampling_rate):\n",
    "    # Takes in an array of dicts containing trigger and event data and formats the events\n",
    "    # to better fit the MNE model for triggers\n",
    "    updated_events = []\n",
    "    for event in events:\n",
    "        mne_events = []\n",
    "        # print(event)\n",
    "        raw_events = event['raw_events']\n",
    "        trigger_sample = event['trigger'][0]\n",
    "        # interate through the events df\n",
    "        for index, row in raw_events.iterrows():\n",
    "            seconds_after_trigger = row['seconds_after_trigger']\n",
    "            # convert the time difference into sample differences for MNE\n",
    "            event_sample = round(trigger_sample + (seconds_after_trigger * sampling_rate))\n",
    "            mne_events.append([event_sample, 0, 4])\n",
    "            \n",
    "            # Save the event to the dict and create new events array\n",
    "            event['mne_events'] = mne_events\n",
    "        updated_events.append(event)\n",
    "    return updated_events"
   ]
  },
  {
   "cell_type": "code",
   "execution_count": 426,
   "metadata": {},
   "outputs": [],
   "source": [
    "\n",
    "def get_raw_signal(path):\n",
    "    subs = os.listdir(path)\n",
    "\n",
    "    for sub in subs[:2]:\n",
    "        if sub not in ignore:\n",
    "            sub_id = int(sub.split('-')[-1])\n",
    "            sub_path = f'{root}/{sub}/nirs'\n",
    "            sub_nirs_directory = os.listdir(sub_path)\n",
    "            snirf_path = make_snirf_path(sub_nirs_directory, sub_path)\n",
    "\n",
    "            # Generate Raw OD values\n",
    "            raw_intensity = mne.io.read_raw_snirf(snirf_path, verbose=True, preload=False)\n",
    "            # Resample if needed\n",
    "            # raw_intensity.load_data().resample(4.0, npad=\"auto\")\n",
    "            raw_intensity.annotations.rename(trigger_id)\n",
    "            raw_od = optical_density(raw_intensity)\n",
    "            raw_haemo = beer_lambert_law(raw_od, ppf=0.1)\n",
    "\n",
    "            # Find the sampling rate\n",
    "            sampling_rate = raw_haemo.info['sfreq']\n",
    "\n",
    "            # Converts the snirf data into a CSV\n",
    "            # data = pd.DataFrame(raw_haemo.get_data())\n",
    "            # data.to_csv('hemo_data.csv')\n",
    "\n",
    "            # Get list of events\n",
    "            triggers, trigger_dict = events_from_annotations(raw_haemo, verbose=False)\n",
    "            sub_events = events[events['sub_id'] == sub_id]\n",
    "            sub_events.to_csv('sub_events.csv')\n",
    "            \n",
    "            # Pair the events with their proper timestamps for SVM and waveform plotting.\n",
    "            paired_events = align_triggers_with_events(triggers, trigger_dict, sub_events)\n",
    "\n",
    "            # Convert the raw_events into an MNE event data type of [sample, 0, type]\n",
    "            # print(len(paired_events))\n",
    "            formated_paired_events = convert_events_to_MNE_format(paired_events, sampling_rate)\n",
    "\n",
    "            # Write the events into the snirf file as a trigger\n",
    "            add_event_triggers(formated_paired_events)\n",
    "            \n",
    "            \n",
    "\n"
   ]
  },
  {
   "cell_type": "code",
   "execution_count": 427,
   "metadata": {},
   "outputs": [
    {
     "name": "stdout",
     "output_type": "stream",
     "text": [
      "Loading /Users/nolanbrady/Desktop/AttentionShiftingData/scripts/../fnirs/All/sub-6/nirs/2023-05-25_001.snirf\n",
      "Reading 0 ... 14825  =      0.000 ...  1457.297 secs...\n",
      "[[429, 0, 4], [585, 0, 4], [891, 0, 4]]\n",
      "[[1242, 0, 4], [1353, 0, 4], [1511, 0, 4], [1673, 0, 4]]\n",
      "[[2058, 0, 4], [2165, 0, 4], [2312, 0, 4], [2404, 0, 4], [2507, 0, 4], [2562, 0, 4]]\n",
      "[[2913, 0, 4], [3001, 0, 4], [3123, 0, 4], [3268, 0, 4], [3360, 0, 4], [3512, 0, 4]]\n",
      "[[6031, 0, 4], [6167, 0, 4], [6241, 0, 4], [6330, 0, 4], [6513, 0, 4], [6605, 0, 4]]\n",
      "[[6844, 0, 4], [6926, 0, 4], [7000, 0, 4], [7057, 0, 4], [7134, 0, 4], [7203, 0, 4], [7273, 0, 4]]\n",
      "[[7663, 0, 4], [7734, 0, 4], [7805, 0, 4], [7896, 0, 4], [8016, 0, 4], [8091, 0, 4], [8161, 0, 4]]\n",
      "[[9006, 0, 4], [9090, 0, 4], [9168, 0, 4], [9236, 0, 4], [9307, 0, 4], [9388, 0, 4], [9455, 0, 4]]\n",
      "[[11027, 0, 4], [11106, 0, 4], [11186, 0, 4], [11345, 0, 4], [11411, 0, 4], [11478, 0, 4]]\n",
      "[[11840, 0, 4], [11908, 0, 4], [11984, 0, 4], [12056, 0, 4], [12135, 0, 4], [12214, 0, 4], [12291, 0, 4]]\n",
      "[[12654, 0, 4], [12737, 0, 4], [12823, 0, 4], [12955, 0, 4], [13072, 0, 4], [13151, 0, 4]]\n",
      "[[13593, 0, 4], [13674, 0, 4], [13759, 0, 4], [13844, 0, 4], [13917, 0, 4], [13987, 0, 4]]\n"
     ]
    }
   ],
   "source": [
    "get_raw_signal(root)"
   ]
  },
  {
   "cell_type": "code",
   "execution_count": null,
   "metadata": {},
   "outputs": [],
   "source": []
  }
 ],
 "metadata": {
  "kernelspec": {
   "display_name": "personachat",
   "language": "python",
   "name": "python3"
  },
  "language_info": {
   "codemirror_mode": {
    "name": "ipython",
    "version": 3
   },
   "file_extension": ".py",
   "mimetype": "text/x-python",
   "name": "python",
   "nbconvert_exporter": "python",
   "pygments_lexer": "ipython3",
   "version": "3.9.13"
  },
  "orig_nbformat": 4
 },
 "nbformat": 4,
 "nbformat_minor": 2
}
